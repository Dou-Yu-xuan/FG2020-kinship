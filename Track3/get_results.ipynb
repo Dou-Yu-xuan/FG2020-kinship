{
 "cells": [
  {
   "cell_type": "code",
   "execution_count": null,
   "metadata": {},
   "outputs": [],
   "source": [
    "import os\n",
    "import re\n",
    "import numpy as np\n",
    "import pandas as pd"
   ]
  },
  {
   "cell_type": "code",
   "execution_count": null,
   "metadata": {},
   "outputs": [],
   "source": [
    "test_probes_path = \"./track3-data/test-data/probes/probe_subjects/\"\n",
    "\n",
    "probes_id = os.listdir(test_probes_path)\n",
    "# probes_id.sort(key=sort_key)"
   ]
  },
  {
   "cell_type": "code",
   "execution_count": null,
   "metadata": {},
   "outputs": [],
   "source": [
    "import csv\n",
    "from collections import defaultdict\n",
    "\n",
    "nums_gallery = 3897\n",
    "nums_probes_id = 190\n",
    "\n",
    "for k in range(nums_probes_id):\n",
    "    sim_lines = pd.read_csv(\"./track3-res/sim/track3-sim-{}.csv\".format(probes_id[k]))['score']\n",
    "    nums_probe_pre_id = len(sim_lines)//nums_gallery\n",
    "    sim2_dict = {}\n",
    "    for i in range(nums_gallery):\n",
    "        gallery_img = 'face{}.jpg'.format(str(i))\n",
    "        sim_score_list = [float(sim_lines[i*nums_probe_pre_id+j]) for j in range(nums_probe_pre_id)] # .split(',')[2]\n",
    "        #================\n",
    "        sim2_score = np.mean(sim_score_list)\n",
    "        #================\n",
    "        sim2_dict[gallery_img] = sim2_score\n",
    "    sim2_sorted = sorted(sim2_dict.items(), key=lambda x:x[1], reverse=True)\n",
    "    rank_dict = {}\n",
    "    for item in zip(sim2_sorted, list(range(len(sim2_sorted)))):\n",
    "        name = item[0][0]\n",
    "        rank = item[1]\n",
    "        rank_dict[name] = rank\n",
    "    sim2 = defaultdict(list)\n",
    "    for item in sim2_dict:\n",
    "        sim2['gallery_img'].append(item)\n",
    "        sim2['score'].append(sim2_dict[item])\n",
    "        sim2['rank'].append(rank_dict[item])\n",
    "    pd.DataFrame(sim2).to_csv(\"./track3-res/sim2/track3-sim2-{}.csv\".format(probes_id[k]))\n",
    "\n",
    "with open('predictions.csv','w',newline='') as f:\n",
    "    csv_write = csv.writer(f, dialect='excel')\n",
    "    for k in range(nums_probes_id):\n",
    "        sim2_lines = pd.read_csv(\"./track3-res/sim2/track3-sim2-{}.csv\".format(probes_id[k]))['rank']\n",
    "        csv_write.writerow(sim2_lines)"
   ]
  },
  {
   "cell_type": "code",
   "execution_count": null,
   "metadata": {},
   "outputs": [],
   "source": []
  }
 ],
 "metadata": {
  "kernelspec": {
   "display_name": "Python 3",
   "language": "python",
   "name": "python3"
  },
  "language_info": {
   "codemirror_mode": {
    "name": "ipython",
    "version": 3
   },
   "file_extension": ".py",
   "mimetype": "text/x-python",
   "name": "python",
   "nbconvert_exporter": "python",
   "pygments_lexer": "ipython3",
   "version": "3.7.2"
  }
 },
 "nbformat": 4,
 "nbformat_minor": 4
}
